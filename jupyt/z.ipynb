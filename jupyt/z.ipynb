{
 "cells": [
  {
   "cell_type": "code",
   "execution_count": null,
   "metadata": {},
   "outputs": [],
   "source": [
    "import cv2\n",
    "import numpy as np\n",
    "import matplotlib.pyplot as plt"
   ]
  },
  {
   "cell_type": "code",
   "execution_count": null,
   "metadata": {},
   "outputs": [],
   "source": [
    "def z_EdgeDetection(blurredimage, kernelX, kernelY):\n",
    "    sobelX = cv2.filter2D(blurredimage, -1, kernelX)\n",
    "    sobelY = cv2.filter2D(blurredimage, -1, kernelY)\n",
    "    transformed_image = np.hypot(sobelX, sobelY)\n",
    "    transformed_image *= 255/np.max(sobelX, sobelY)\n",
    "    return transformed_image.astype(np.uint8)\n",
    "\n",
    "input_image = cv2.imread('square.png', cv2.IMREAD_GRAYSCALE)\n",
    "\n",
    "z_transformed_matrix = np.array ([[0,1,0],\n",
    "                                  [1, -4, 1],\n",
    "                                  [0, 1, 0]])\n",
    "\n",
    "transformed_image = z_tranform(input_image, z_transformed_matrix)\n",
    "\n",
    "plt.figure(figsize = (10,5))\n",
    "\n",
    "plt.subplot(1,2,1) \n",
    "plt.imshow(input_image, cmap = 'gray')\n",
    "plt.title('Square Orig Image')\n",
    "plt.axis('off')\n",
    "\n",
    "plt.subplot(1,2,2)\n",
    "plt.imshow(transformed_image, cmap = 'grey')\n",
    "plt.title('Z- Transformed Image')\n",
    "plt.axis('off')\n",
    "\n",
    "plt.show()"
   ]
  }
 ],
 "metadata": {
  "language_info": {
   "name": "python"
  }
 },
 "nbformat": 4,
 "nbformat_minor": 2
}
