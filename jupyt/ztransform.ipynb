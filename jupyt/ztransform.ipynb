{
 "cells": [
  {
   "cell_type": "code",
   "execution_count": null,
   "metadata": {},
   "outputs": [],
   "source": [
    "import cv2\n",
    "import numpy as np\n",
    "import matplotlib.pyplot as plt"
   ]
  },
  {
   "cell_type": "code",
   "execution_count": null,
   "metadata": {},
   "outputs": [],
   "source": [
    "def z_transform_blur(input_image, nb_size):\n",
    "\n",
    "    z_transform_matrix = np.ones((nb_size,nb_size), dtype = np.float32)/(nb_size**2)\n",
    "\n",
    "    transformed_image = cv2.filter2D (input_image, -1, z_transform_matrix)\n",
    "\n",
    "    return transformed_image\n",
    "\n",
    "input_image = cv2.imread('square.png', cv2.IMREAD_GRAYSCALE)\n",
    "\n",
    "nb_size = 10\n",
    "\n",
    "transformed_image = z_transform_blur(input_image,nb_size)\n",
    "\n",
    "plt.figure(figsize = (10,5))\n",
    "\n",
    "plt.subplot(1,2,1) \n",
    "plt.imshow(input_image, cmap = 'gray')\n",
    "plt.title('Square Orig Image')\n",
    "plt.axis('off')\n",
    "\n",
    "plt.subplot(1,2,2)\n",
    "plt.imshow(transformed_image, cmap = 'grey')\n",
    "plt.title('Z- Transformed Image')\n",
    "plt.axis('off')\n",
    "\n",
    "plt.show()"
   ]
  }
 ],
 "metadata": {
  "kernelspec": {
   "display_name": "Python 3",
   "language": "python",
   "name": "python3"
  },
  "language_info": {
   "codemirror_mode": {
    "name": "ipython",
    "version": 3
   },
   "file_extension": ".py",
   "mimetype": "text/x-python",
   "name": "python",
   "nbconvert_exporter": "python",
   "pygments_lexer": "ipython3",
   "version": "3.12.3"
  }
 },
 "nbformat": 4,
 "nbformat_minor": 2
}
