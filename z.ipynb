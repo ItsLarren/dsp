{
 "cells": [
  {
   "cell_type": "code",
   "execution_count": null,
   "metadata": {},
   "outputs": [],
   "source": [
    "import cv2\n",
    "import numpy as np\n",
    "import matplotlib.pyplot as plt"
   ]
  },
  {
   "cell_type": "code",
   "execution_count": null,
   "metadata": {},
   "outputs": [],
   "source": [
    "def zEdgeDetection(blrrdimg, kernelX, kernelY, kernelZ):\n",
    "    sobelX = cv2.filter2D(blrrdimg, -1, kernelX)\n",
    "    sobelY = cv2.filter2D(blrrdimg, -1, kernelY)\n",
    "    sobelZ = cv2.filter2D(blrrdimg, -1, kernelZ)\n",
    "\n",
    "    transformed_image = np.sqrt(np.square(sobelX) + np.square(sobelY) + np.square(sobelZ))\n",
    "    transformed_image *= 255/np.max(transformed_image)\n",
    "\n",
    "    return transformed_image.astype(np.uint8)\n",
    "\n",
    "\n",
    "input_image = cv2.imread('square.png')\n",
    "input_image = cv2.cvtColor(input_image, cv2.COLOR_BGR2RGB)\n",
    "blrrdimg = cv2.GaussianBlur(input_image, (5,5), 0)\n",
    "\n",
    "\n",
    "kernelX = np.array([[-1, -2, 0, 2, 1],\n",
    "                    [-2, -3, 0, 3, 2],\n",
    "                    [-3, -5, 0, 5, 3],\n",
    "                    [-2, -3, 0, 3, 2],\n",
    "                    [-1, -2, 0, 2, 1]])\n",
    "\n",
    "kernelY = np.array([[ 1, 2, 3, 2, 1],\n",
    "                    [ 2, 3, 0, 3, 2],\n",
    "                    [ 0, 0, 0, 0, 0],\n",
    "                    [-2, -3, -5, -3, -2],\n",
    "                    [-1, -2, -3, -2, -1]])    \n",
    "\n",
    "kernelZ = np.array([[ 1, 1, 1, 1, 1],\n",
    "                    [ 1, 1, 1, 1, 1],\n",
    "                    [ 0, 0, 0, 0, 0],\n",
    "                    [-1, -1, -1, -1, -1],\n",
    "                    [-1, -1, -1, -1, -1]])                 \n",
    "\n",
    "transformed_image = zEdgeDetection(blrrdimg, kernelX, kernelY, kernelZ)\n",
    "\n",
    "plt.figure(figsize=(10,5))\n",
    "\n",
    "plt.subplot(1,2,1) \n",
    "plt.imshow(input_image)\n",
    "plt.title('Square Orig Image')\n",
    "plt.axis('off')\n",
    "\n",
    "plt.subplot(1,2,2)\n",
    "plt.imshow(transformed_image, cmap='gray')\n",
    "plt.title('Z-Transformed Image')\n",
    "plt.axis('off')\n",
    "\n",
    "plt.show()\n",
    "\n"
   ]
  }
 ],
 "metadata": {
  "kernelspec": {
   "display_name": "Python 3",
   "language": "python",
   "name": "python3"
  },
  "language_info": {
   "codemirror_mode": {
    "name": "ipython",
    "version": 3
   },
   "file_extension": ".py",
   "mimetype": "text/x-python",
   "name": "python",
   "nbconvert_exporter": "python",
   "pygments_lexer": "ipython3",
   "version": "3.12.3"
  }
 },
 "nbformat": 4,
 "nbformat_minor": 2
}
